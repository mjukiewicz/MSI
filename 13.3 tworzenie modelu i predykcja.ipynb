{
 "cells": [
  {
   "cell_type": "code",
   "execution_count": 1,
   "id": "b17e7872",
   "metadata": {},
   "outputs": [
    {
     "name": "stderr",
     "output_type": "stream",
     "text": [
      "2024-01-07 13:46:25.554328: I tensorflow/core/util/port.cc:110] oneDNN custom operations are on. You may see slightly different numerical results due to floating-point round-off errors from different computation orders. To turn them off, set the environment variable `TF_ENABLE_ONEDNN_OPTS=0`.\n",
      "2024-01-07 13:46:25.611617: I tensorflow/core/platform/cpu_feature_guard.cc:182] This TensorFlow binary is optimized to use available CPU instructions in performance-critical operations.\n",
      "To enable the following instructions: AVX2 AVX512F AVX512_VNNI FMA, in other operations, rebuild TensorFlow with the appropriate compiler flags.\n",
      "2024-01-07 13:46:26.394340: W tensorflow/compiler/tf2tensorrt/utils/py_utils.cc:38] TF-TRT Warning: Could not find TensorRT\n"
     ]
    }
   ],
   "source": [
    "import warnings\n",
    "warnings.filterwarnings('ignore')\n",
    "import numpy as np\n",
    "import matplotlib.pyplot as plt\n",
    "import tensorflow as tf\n",
    "import pandas as pd\n",
    "import os\n",
    "os.environ[\"KMP_DUPLICATE_LIB_OK\"]=\"TRUE\"\n",
    "os.environ['CUDA_VISIBLE_DEVICES'] = '-1'\n",
    "from tensorflow.keras import Sequential\n",
    "from tensorflow.keras.layers import Flatten, Dense\n",
    "\n"
   ]
  },
  {
   "cell_type": "code",
   "execution_count": 2,
   "id": "b93083b2",
   "metadata": {},
   "outputs": [],
   "source": [
    "df = pd.read_csv('DailyDelhiClimateTrain.csv')"
   ]
  },
  {
   "cell_type": "code",
   "execution_count": 3,
   "id": "ff366751",
   "metadata": {},
   "outputs": [],
   "source": [
    "df = df.drop([\"humidity\",\"wind_speed\", \"meanpressure\"], axis=1)"
   ]
  },
  {
   "cell_type": "code",
   "execution_count": 4,
   "id": "760470eb",
   "metadata": {},
   "outputs": [],
   "source": [
    "train_size = int(df.shape[0]*0.8)"
   ]
  },
  {
   "cell_type": "code",
   "execution_count": 5,
   "id": "7af9dc25",
   "metadata": {},
   "outputs": [],
   "source": [
    "train = df.iloc[:train_size, 1]\n",
    "test = df.iloc[train_size:, 1]"
   ]
  },
  {
   "cell_type": "code",
   "execution_count": 6,
   "id": "82a045bd",
   "metadata": {},
   "outputs": [],
   "source": [
    "train = np.array(train).reshape(-1, 1)\n",
    "test = np.array(test).reshape(-1, 1)"
   ]
  },
  {
   "cell_type": "code",
   "execution_count": 7,
   "id": "18ece562",
   "metadata": {},
   "outputs": [],
   "source": [
    "from sklearn.preprocessing import MinMaxScaler\n",
    "\n",
    "scaler = MinMaxScaler(feature_range=(-1, 1))\n",
    "train_sc = scaler.fit_transform(train)\n",
    "test_sc = scaler.transform(test)"
   ]
  },
  {
   "cell_type": "code",
   "execution_count": 8,
   "id": "4b4b1a32",
   "metadata": {},
   "outputs": [],
   "source": [
    "X_train = train_sc[:-1]\n",
    "y_train = train_sc[1:]"
   ]
  },
  {
   "cell_type": "code",
   "execution_count": 9,
   "id": "7e26e67b",
   "metadata": {},
   "outputs": [],
   "source": [
    "X_test = test_sc[:-1]\n",
    "y_test = test_sc[1:]"
   ]
  },
  {
   "cell_type": "code",
   "execution_count": 10,
   "id": "15bf19c2",
   "metadata": {},
   "outputs": [
    {
     "name": "stdout",
     "output_type": "stream",
     "text": [
      "Model: \"sequential\"\n",
      "_________________________________________________________________\n",
      " Layer (type)                Output Shape              Param #   \n",
      "=================================================================\n",
      " dense (Dense)               (None, 12)                24        \n",
      "                                                                 \n",
      " dense_1 (Dense)             (None, 1)                 13        \n",
      "                                                                 \n",
      "=================================================================\n",
      "Total params: 37\n",
      "Trainable params: 37\n",
      "Non-trainable params: 0\n",
      "_________________________________________________________________\n"
     ]
    },
    {
     "name": "stderr",
     "output_type": "stream",
     "text": [
      "2024-01-07 13:46:27.816775: E tensorflow/compiler/xla/stream_executor/cuda/cuda_driver.cc:266] failed call to cuInit: CUDA_ERROR_NO_DEVICE: no CUDA-capable device is detected\n",
      "2024-01-07 13:46:27.816841: I tensorflow/compiler/xla/stream_executor/cuda/cuda_diagnostics.cc:168] retrieving CUDA diagnostic information for host: dziobak\n",
      "2024-01-07 13:46:27.816854: I tensorflow/compiler/xla/stream_executor/cuda/cuda_diagnostics.cc:175] hostname: dziobak\n",
      "2024-01-07 13:46:27.817072: I tensorflow/compiler/xla/stream_executor/cuda/cuda_diagnostics.cc:199] libcuda reported version is: 520.61.5\n",
      "2024-01-07 13:46:27.817113: I tensorflow/compiler/xla/stream_executor/cuda/cuda_diagnostics.cc:203] kernel reported version is: 520.61.5\n",
      "2024-01-07 13:46:27.817123: I tensorflow/compiler/xla/stream_executor/cuda/cuda_diagnostics.cc:309] kernel version seems to match DSO: 520.61.5\n"
     ]
    },
    {
     "name": "stdout",
     "output_type": "stream",
     "text": [
      "Epoch 1/100\n",
      "37/37 [==============================] - 1s 9ms/step - loss: 0.2982 - val_loss: 0.2758\n",
      "Epoch 2/100\n",
      "37/37 [==============================] - 0s 5ms/step - loss: 0.1648 - val_loss: 0.1403\n",
      "Epoch 3/100\n",
      "37/37 [==============================] - 0s 5ms/step - loss: 0.0897 - val_loss: 0.0723\n",
      "Epoch 4/100\n",
      "37/37 [==============================] - 0s 5ms/step - loss: 0.0483 - val_loss: 0.0401\n",
      "Epoch 5/100\n",
      "37/37 [==============================] - 0s 5ms/step - loss: 0.0274 - val_loss: 0.0252\n",
      "Epoch 6/100\n",
      "37/37 [==============================] - 0s 5ms/step - loss: 0.0180 - val_loss: 0.0186\n",
      "Epoch 7/100\n",
      "37/37 [==============================] - 0s 5ms/step - loss: 0.0143 - val_loss: 0.0155\n",
      "Epoch 8/100\n",
      "37/37 [==============================] - 0s 5ms/step - loss: 0.0132 - val_loss: 0.0140\n",
      "Epoch 9/100\n",
      "37/37 [==============================] - 0s 5ms/step - loss: 0.0127 - val_loss: 0.0133\n",
      "Epoch 10/100\n",
      "37/37 [==============================] - 0s 5ms/step - loss: 0.0124 - val_loss: 0.0126\n",
      "Epoch 11/100\n",
      "37/37 [==============================] - 0s 5ms/step - loss: 0.0122 - val_loss: 0.0123\n",
      "Epoch 12/100\n",
      "37/37 [==============================] - 0s 5ms/step - loss: 0.0120 - val_loss: 0.0121\n",
      "Epoch 13/100\n",
      "37/37 [==============================] - 0s 5ms/step - loss: 0.0119 - val_loss: 0.0118\n",
      "Epoch 14/100\n",
      "37/37 [==============================] - 0s 4ms/step - loss: 0.0117 - val_loss: 0.0116\n",
      "Epoch 15/100\n",
      "37/37 [==============================] - 0s 4ms/step - loss: 0.0116 - val_loss: 0.0115\n",
      "Epoch 16/100\n",
      "37/37 [==============================] - 0s 5ms/step - loss: 0.0115 - val_loss: 0.0113\n",
      "Epoch 17/100\n",
      "37/37 [==============================] - 0s 5ms/step - loss: 0.0114 - val_loss: 0.0112\n",
      "Epoch 18/100\n",
      "37/37 [==============================] - 0s 4ms/step - loss: 0.0113 - val_loss: 0.0111\n",
      "Epoch 19/100\n",
      "37/37 [==============================] - 0s 4ms/step - loss: 0.0112 - val_loss: 0.0111\n",
      "Epoch 20/100\n",
      "37/37 [==============================] - 0s 5ms/step - loss: 0.0111 - val_loss: 0.0109\n",
      "Epoch 21/100\n",
      "37/37 [==============================] - 0s 5ms/step - loss: 0.0111 - val_loss: 0.0109\n",
      "Epoch 22/100\n",
      "37/37 [==============================] - 0s 5ms/step - loss: 0.0110 - val_loss: 0.0108\n",
      "Epoch 23/100\n",
      "37/37 [==============================] - 0s 5ms/step - loss: 0.0109 - val_loss: 0.0109\n",
      "Epoch 24/100\n",
      "37/37 [==============================] - 0s 4ms/step - loss: 0.0109 - val_loss: 0.0106\n",
      "Epoch 25/100\n",
      "37/37 [==============================] - 0s 4ms/step - loss: 0.0109 - val_loss: 0.0108\n",
      "Epoch 26/100\n",
      "37/37 [==============================] - 0s 5ms/step - loss: 0.0108 - val_loss: 0.0106\n",
      "Epoch 27/100\n",
      "37/37 [==============================] - 0s 5ms/step - loss: 0.0108 - val_loss: 0.0107\n",
      "Epoch 28/100\n",
      "37/37 [==============================] - 0s 4ms/step - loss: 0.0108 - val_loss: 0.0106\n",
      "Epoch 29/100\n",
      "37/37 [==============================] - 0s 4ms/step - loss: 0.0107 - val_loss: 0.0106\n",
      "Epoch 30/100\n",
      "37/37 [==============================] - 0s 4ms/step - loss: 0.0107 - val_loss: 0.0105\n",
      "Epoch 31/100\n",
      "37/37 [==============================] - 0s 5ms/step - loss: 0.0107 - val_loss: 0.0107\n",
      "Epoch 32/100\n",
      "37/37 [==============================] - 0s 5ms/step - loss: 0.0107 - val_loss: 0.0105\n",
      "Epoch 33/100\n",
      "37/37 [==============================] - 0s 5ms/step - loss: 0.0106 - val_loss: 0.0103\n",
      "Epoch 34/100\n",
      "37/37 [==============================] - 0s 5ms/step - loss: 0.0106 - val_loss: 0.0104\n",
      "Epoch 35/100\n",
      "37/37 [==============================] - 0s 5ms/step - loss: 0.0106 - val_loss: 0.0104\n",
      "Epoch 36/100\n",
      "37/37 [==============================] - 0s 5ms/step - loss: 0.0106 - val_loss: 0.0103\n",
      "Epoch 37/100\n",
      "37/37 [==============================] - 0s 5ms/step - loss: 0.0105 - val_loss: 0.0103\n",
      "Epoch 38/100\n",
      "37/37 [==============================] - 0s 5ms/step - loss: 0.0105 - val_loss: 0.0104\n",
      "Epoch 39/100\n",
      "37/37 [==============================] - 0s 4ms/step - loss: 0.0105 - val_loss: 0.0105\n",
      "Epoch 40/100\n",
      "37/37 [==============================] - 0s 4ms/step - loss: 0.0105 - val_loss: 0.0102\n",
      "Epoch 41/100\n",
      "37/37 [==============================] - 0s 5ms/step - loss: 0.0105 - val_loss: 0.0102\n",
      "Epoch 42/100\n",
      "37/37 [==============================] - 0s 4ms/step - loss: 0.0105 - val_loss: 0.0102\n",
      "Epoch 43/100\n",
      "37/37 [==============================] - 0s 4ms/step - loss: 0.0104 - val_loss: 0.0106\n",
      "Epoch 44/100\n",
      "37/37 [==============================] - 0s 4ms/step - loss: 0.0105 - val_loss: 0.0103\n",
      "Epoch 45/100\n",
      "37/37 [==============================] - 0s 4ms/step - loss: 0.0104 - val_loss: 0.0102\n",
      "Epoch 46/100\n",
      "37/37 [==============================] - 0s 5ms/step - loss: 0.0104 - val_loss: 0.0102\n",
      "Epoch 47/100\n",
      "37/37 [==============================] - 0s 5ms/step - loss: 0.0104 - val_loss: 0.0103\n",
      "Epoch 48/100\n",
      "37/37 [==============================] - 0s 5ms/step - loss: 0.0104 - val_loss: 0.0103\n",
      "Epoch 49/100\n",
      "37/37 [==============================] - 0s 5ms/step - loss: 0.0104 - val_loss: 0.0103\n",
      "Epoch 50/100\n",
      "37/37 [==============================] - 0s 5ms/step - loss: 0.0103 - val_loss: 0.0101\n",
      "Epoch 51/100\n",
      "37/37 [==============================] - 0s 5ms/step - loss: 0.0103 - val_loss: 0.0102\n",
      "Epoch 52/100\n",
      "37/37 [==============================] - 0s 5ms/step - loss: 0.0103 - val_loss: 0.0102\n",
      "Epoch 53/100\n",
      "37/37 [==============================] - 0s 4ms/step - loss: 0.0103 - val_loss: 0.0101\n",
      "Epoch 54/100\n",
      "37/37 [==============================] - 0s 4ms/step - loss: 0.0103 - val_loss: 0.0104\n",
      "Epoch 55/100\n",
      "37/37 [==============================] - 0s 5ms/step - loss: 0.0103 - val_loss: 0.0101\n",
      "Epoch 56/100\n",
      "37/37 [==============================] - 0s 5ms/step - loss: 0.0103 - val_loss: 0.0101\n",
      "Epoch 57/100\n",
      "37/37 [==============================] - 0s 4ms/step - loss: 0.0103 - val_loss: 0.0101\n",
      "Epoch 58/100\n",
      "37/37 [==============================] - 0s 5ms/step - loss: 0.0102 - val_loss: 0.0103\n",
      "Epoch 59/100\n",
      "37/37 [==============================] - 0s 5ms/step - loss: 0.0103 - val_loss: 0.0101\n",
      "Epoch 60/100\n",
      "37/37 [==============================] - 0s 5ms/step - loss: 0.0102 - val_loss: 0.0102\n",
      "Epoch 61/100\n",
      "37/37 [==============================] - 0s 4ms/step - loss: 0.0102 - val_loss: 0.0101\n",
      "Epoch 62/100\n",
      "37/37 [==============================] - 0s 4ms/step - loss: 0.0102 - val_loss: 0.0101\n",
      "Epoch 63/100\n",
      "37/37 [==============================] - 0s 4ms/step - loss: 0.0101 - val_loss: 0.0103\n",
      "Epoch 64/100\n",
      "37/37 [==============================] - 0s 4ms/step - loss: 0.0101 - val_loss: 0.0101\n",
      "Epoch 65/100\n",
      "37/37 [==============================] - 0s 5ms/step - loss: 0.0101 - val_loss: 0.0102\n",
      "Epoch 66/100\n",
      "37/37 [==============================] - 0s 4ms/step - loss: 0.0101 - val_loss: 0.0102\n",
      "Epoch 67/100\n",
      "37/37 [==============================] - 0s 4ms/step - loss: 0.0101 - val_loss: 0.0101\n",
      "Epoch 68/100\n",
      "37/37 [==============================] - 0s 5ms/step - loss: 0.0100 - val_loss: 0.0100\n",
      "Epoch 69/100\n",
      "37/37 [==============================] - 0s 5ms/step - loss: 0.0101 - val_loss: 0.0101\n",
      "Epoch 70/100\n",
      "37/37 [==============================] - 0s 4ms/step - loss: 0.0101 - val_loss: 0.0100\n",
      "Epoch 71/100\n",
      "37/37 [==============================] - 0s 5ms/step - loss: 0.0100 - val_loss: 0.0102\n",
      "Epoch 72/100\n",
      "37/37 [==============================] - 0s 4ms/step - loss: 0.0100 - val_loss: 0.0101\n",
      "Epoch 73/100\n",
      "37/37 [==============================] - 0s 5ms/step - loss: 0.0100 - val_loss: 0.0101\n",
      "Epoch 74/100\n",
      "37/37 [==============================] - 0s 5ms/step - loss: 0.0101 - val_loss: 0.0101\n",
      "Epoch 75/100\n",
      "37/37 [==============================] - 0s 4ms/step - loss: 0.0100 - val_loss: 0.0103\n",
      "Epoch 76/100\n",
      "37/37 [==============================] - 0s 4ms/step - loss: 0.0100 - val_loss: 0.0100\n",
      "Epoch 77/100\n",
      "37/37 [==============================] - 0s 5ms/step - loss: 0.0100 - val_loss: 0.0100\n",
      "Epoch 78/100\n",
      "37/37 [==============================] - 0s 4ms/step - loss: 0.0100 - val_loss: 0.0101\n",
      "Epoch 79/100\n",
      "37/37 [==============================] - 0s 5ms/step - loss: 0.0100 - val_loss: 0.0101\n",
      "Epoch 80/100\n",
      "37/37 [==============================] - 0s 4ms/step - loss: 0.0100 - val_loss: 0.0103\n",
      "Epoch 81/100\n",
      "37/37 [==============================] - 0s 4ms/step - loss: 0.0100 - val_loss: 0.0101\n",
      "Epoch 82/100\n",
      "37/37 [==============================] - 0s 5ms/step - loss: 0.0101 - val_loss: 0.0100\n",
      "Epoch 83/100\n"
     ]
    },
    {
     "name": "stdout",
     "output_type": "stream",
     "text": [
      "37/37 [==============================] - 0s 4ms/step - loss: 0.0100 - val_loss: 0.0101\n",
      "Epoch 84/100\n",
      "37/37 [==============================] - 0s 5ms/step - loss: 0.0100 - val_loss: 0.0100\n",
      "Epoch 85/100\n",
      "37/37 [==============================] - 0s 5ms/step - loss: 0.0101 - val_loss: 0.0102\n",
      "Epoch 86/100\n",
      "37/37 [==============================] - 0s 5ms/step - loss: 0.0100 - val_loss: 0.0101\n",
      "Epoch 87/100\n",
      "37/37 [==============================] - 0s 4ms/step - loss: 0.0100 - val_loss: 0.0100\n",
      "Epoch 88/100\n",
      "37/37 [==============================] - 0s 5ms/step - loss: 0.0100 - val_loss: 0.0101\n",
      "Epoch 89/100\n",
      "37/37 [==============================] - 0s 5ms/step - loss: 0.0100 - val_loss: 0.0100\n",
      "Epoch 90/100\n",
      "37/37 [==============================] - 0s 4ms/step - loss: 0.0100 - val_loss: 0.0100\n",
      "Epoch 91/100\n",
      "37/37 [==============================] - 0s 4ms/step - loss: 0.0101 - val_loss: 0.0102\n",
      "Epoch 92/100\n",
      "37/37 [==============================] - 0s 4ms/step - loss: 0.0100 - val_loss: 0.0101\n",
      "Epoch 93/100\n",
      "37/37 [==============================] - 0s 5ms/step - loss: 0.0100 - val_loss: 0.0106\n",
      "Epoch 94/100\n",
      "37/37 [==============================] - 0s 5ms/step - loss: 0.0101 - val_loss: 0.0100\n",
      "Epoch 95/100\n",
      "37/37 [==============================] - 0s 5ms/step - loss: 0.0100 - val_loss: 0.0102\n",
      "Epoch 96/100\n",
      "37/37 [==============================] - 0s 4ms/step - loss: 0.0100 - val_loss: 0.0103\n",
      "Epoch 97/100\n",
      "37/37 [==============================] - 0s 5ms/step - loss: 0.0100 - val_loss: 0.0101\n",
      "Epoch 98/100\n",
      "37/37 [==============================] - 0s 5ms/step - loss: 0.0100 - val_loss: 0.0102\n",
      "Epoch 99/100\n",
      "37/37 [==============================] - 0s 5ms/step - loss: 0.0100 - val_loss: 0.0101\n",
      "Epoch 100/100\n",
      "37/37 [==============================] - 0s 5ms/step - loss: 0.0100 - val_loss: 0.0101\n"
     ]
    }
   ],
   "source": [
    "model = Sequential()\n",
    "model.add(Dense(12, input_dim = 1, activation = 'relu'))\n",
    "model.add(Dense(1, activation = 'linear'))\n",
    "\n",
    "model.summary()\n",
    "\n",
    "model.compile(optimizer='adam',\n",
    "              loss='mean_squared_error')\n",
    "history = model.fit(X_train, y_train, epochs=100, validation_data=(X_test, y_test))"
   ]
  },
  {
   "cell_type": "code",
   "execution_count": 11,
   "id": "7c5c40c1",
   "metadata": {},
   "outputs": [
    {
     "name": "stdout",
     "output_type": "stream",
     "text": [
      "10/10 [==============================] - 0s 1ms/step\n"
     ]
    }
   ],
   "source": [
    "y_pred = model.predict(X_test)"
   ]
  },
  {
   "cell_type": "code",
   "execution_count": 12,
   "id": "77c93ad1",
   "metadata": {},
   "outputs": [
    {
     "name": "stderr",
     "output_type": "stream",
     "text": [
      "No artists with labels found to put in legend.  Note that artists whose label start with an underscore are ignored when legend() is called with no argument.\n"
     ]
    },
    {
     "data": {
      "text/plain": [
       "<matplotlib.legend.Legend at 0x7feaa05e4550>"
      ]
     },
     "execution_count": 12,
     "metadata": {},
     "output_type": "execute_result"
    },
    {
     "data": {
      "image/png": "[encoded data removed]",
      "text/plain": [
       "<Figure size 640x480 with 1 Axes>"
      ]
     },
     "metadata": {},
     "output_type": "display_data"
    }
   ],
   "source": [
    "plt.plot(y_test)\n",
    "plt.plot(y_pred)\n",
    "plt.xlabel(\"Sample\")\n",
    "plt.ylabel(\"Temperature [C]\")\n",
    "plt.legend()"
   ]
  },
  {
   "cell_type": "code",
   "execution_count": 15,
   "id": "5b318306",
   "metadata": {},
   "outputs": [
    {
     "data": {
      "text/plain": [
       "0.9159982097551754"
      ]
     },
     "execution_count": 15,
     "metadata": {},
     "output_type": "execute_result"
    }
   ],
   "source": [
    "from sklearn.metrics import r2_score\n",
    "r2_score(y_test, y_pred)"
   ]
  },
  {
   "cell_type": "code",
   "execution_count": null,
   "id": "102140a9",
   "metadata": {},
   "outputs": [],
   "source": [
    "\n",
    "#r2_score to metryka oceny stosowana do pomiaru dopasowania modelu do danych. Jest to również znane jako współczynnik \n",
    "#determinacji (Coefficient of Determination). r2_score mierzy, jak dobrze model regresji przewiduje zmienność zależnej \n",
    "#zmiennej względem wartości przewidywanych przez model.\n",
    "\n",
    "#Wartość r2_score znajduje się w przedziale od 0 do 1."
   ]
  }
 ],
 "metadata": {
  "kernelspec": {
   "display_name": "Python 3 (ipykernel)",
   "language": "python",
   "name": "python3"
  },
  "language_info": {
   "codemirror_mode": {
    "name": "ipython",
    "version": 3
   },
   "file_extension": ".py",
   "mimetype": "text/x-python",
   "name": "python",
   "nbconvert_exporter": "python",
   "pygments_lexer": "ipython3",
   "version": "3.9.7"
  }
 },
 "nbformat": 4,
 "nbformat_minor": 5
}
