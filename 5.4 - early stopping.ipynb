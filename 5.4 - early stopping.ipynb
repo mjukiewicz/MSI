{
 "cells": [
  {
   "cell_type": "code",
   "execution_count": null,
   "id": "42c14638",
   "metadata": {},
   "outputs": [],
   "source": [
    "import warnings\n",
    "warnings.filterwarnings('ignore')\n",
    "import numpy as np\n",
    "import matplotlib.pyplot as plt\n",
    "from sklearn.model_selection import train_test_split\n",
    "import tensorflow as tf\n",
    "import pandas as pd\n",
    "from sklearn import preprocessing as p\n",
    "from tensorflow.keras import Sequential\n",
    "from tensorflow.keras.layers import Input, Dense\n",
    "\n",
    "EPOCHS = 10000\n",
    "\n",
    "df = pd.read_csv('heart.csv')\n",
    "\n",
    "df_scaled = p.StandardScaler().fit_transform(df.iloc[:, :-1])\n",
    "\n",
    "X_train, X_val, y_train, y_val = train_test_split(df_scaled, df.iloc[:, -1], train_size = 0.8, random_state=1)\n"
   ]
  },
  {
   "cell_type": "code",
   "execution_count": null,
   "id": "49952f1e",
   "metadata": {},
   "outputs": [],
   "source": [
    "from tensorflow.keras.callbacks import EarlyStopping\n",
    "\n",
    "es = EarlyStopping(monitor = \"val_loss\", mode = \"min\", patience = 5)"
   ]
  },
  {
   "cell_type": "code",
   "execution_count": null,
   "id": "1c25ec3e",
   "metadata": {},
   "outputs": [],
   "source": [
    "model_big = Sequential([\n",
    "                Input(shape = (13)),\n",
    "                Dense(64, activation = 'relu'),\n",
    "                Dense(16, activation = 'relu'),\n",
    "                Dense(1)\n",
    "            ])\n",
    "model_big.compile(optimizer='adam',\n",
    "              loss='binary_crossentropy',\n",
    "              metrics=['accuracy'])\n",
    "\n",
    "history_big = model_big.fit(X_train, y_train, epochs = EPOCHS, validation_data=(X_val, y_val), callbacks = [es])\n",
    "hist_big = pd.DataFrame(history_big.history)"
   ]
  },
  {
   "cell_type": "code",
   "execution_count": null,
   "id": "e8bb107c",
   "metadata": {},
   "outputs": [],
   "source": [
    "hist_big = pd.DataFrame(history_big.history)\n",
    "\n",
    "plt.figure(figsize=(10,6))\n",
    "plt.subplot(1,2,1)\n",
    "plt.plot(hist_big.loss, label = \"loss\")\n",
    "plt.plot(hist_big.val_loss, label = \"val_loss\")\n",
    "plt.xlabel(\"epoch\")\n",
    "plt.ylabel(\"loss\")\n",
    "plt.legend()\n",
    "\n",
    "plt.subplot(1,2,2)\n",
    "plt.plot(hist_big.accuracy, label = \"accuracy\")\n",
    "plt.plot(hist_big.val_accuracy, label = \"val_accuracy\")\n",
    "plt.xlabel(\"epoch\")\n",
    "plt.ylabel(\"accuracy\")\n",
    "plt.legend()"
   ]
  },
  {
   "cell_type": "code",
   "execution_count": null,
   "id": "c824e8d1",
   "metadata": {},
   "outputs": [],
   "source": [
    "model_tiny = Sequential([\n",
    "        Input(shape = (13)),\n",
    "        Dense(4, activation = 'relu'),\n",
    "        Dense(2, activation = 'relu'),\n",
    "        Dense(1)\n",
    "])\n",
    "model_tiny.compile(optimizer='adam',\n",
    "              loss='binary_crossentropy',\n",
    "              metrics=['accuracy'])\n",
    "\n",
    "\n",
    "history_tiny = model_tiny.fit(X_train, y_train, epochs = EPOCHS, validation_data=(X_val, y_val), callbacks = [es])\n",
    "hist_tiny = pd.DataFrame(history_tiny.history)"
   ]
  },
  {
   "cell_type": "code",
   "execution_count": null,
   "id": "3b78966f",
   "metadata": {},
   "outputs": [],
   "source": [
    "hist_tiny = pd.DataFrame(history_tiny.history)\n",
    "\n",
    "plt.figure(figsize=(10,6))\n",
    "plt.subplot(1,2,1)\n",
    "plt.plot(hist_tiny.loss, label = \"loss\")\n",
    "plt.plot(hist_tiny.val_loss, label = \"val_loss\")\n",
    "plt.xlabel(\"epoch\")\n",
    "plt.ylabel(\"loss\")\n",
    "plt.legend()\n",
    "\n",
    "plt.subplot(1,2,2)\n",
    "plt.plot(hist_tiny.accuracy, label = \"accuracy\")\n",
    "plt.plot(hist_tiny.val_accuracy, label = \"val_accuracy\")\n",
    "plt.xlabel(\"epoch\")\n",
    "plt.ylabel(\"accuracy\")\n",
    "plt.legend()"
   ]
  },
  {
   "cell_type": "code",
   "execution_count": null,
   "id": "98863731",
   "metadata": {},
   "outputs": [],
   "source": []
  }
 ],
 "metadata": {
  "kernelspec": {
   "display_name": "Python 3 (ipykernel)",
   "language": "python",
   "name": "python3"
  },
  "language_info": {
   "codemirror_mode": {
    "name": "ipython",
    "version": 3
   },
   "file_extension": ".py",
   "mimetype": "text/x-python",
   "name": "python",
   "nbconvert_exporter": "python",
   "pygments_lexer": "ipython3",
   "version": "3.9.7"
  }
 },
 "nbformat": 4,
 "nbformat_minor": 5
}
