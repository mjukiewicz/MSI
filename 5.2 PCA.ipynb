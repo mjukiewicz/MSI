{
 "cells": [
  {
   "cell_type": "code",
   "execution_count": null,
   "id": "ed5a564c",
   "metadata": {},
   "outputs": [],
   "source": [
    "import numpy as np\n",
    "import matplotlib.pyplot as plt\n",
    "from sklearn.datasets import load_digits\n",
    "from sklearn.decomposition import PCA\n",
    "from sklearn.model_selection import train_test_split\n",
    "from sklearn.neighbors import KNeighborsClassifier\n",
    "from sklearn.metrics import accuracy_score"
   ]
  },
  {
   "cell_type": "code",
   "execution_count": null,
   "id": "ffbf1b4c",
   "metadata": {},
   "outputs": [],
   "source": [
    "digits = load_digits()\n",
    "X = digits.data\n",
    "y = digits.target"
   ]
  },
  {
   "cell_type": "code",
   "execution_count": null,
   "id": "8eb5a5ed",
   "metadata": {},
   "outputs": [],
   "source": [
    "X_train, X_test, y_train, y_test = train_test_split(X, y, test_size=0.2, random_state=42)"
   ]
  },
  {
   "cell_type": "code",
   "execution_count": null,
   "id": "27523ee3",
   "metadata": {},
   "outputs": [],
   "source": [
    "#PCA wyznaczone dla 5 komponentów\n",
    "pca = PCA(n_components=5) \n",
    "X_train_pca = pca.fit_transform(X_train)\n",
    "X_test_pca = pca.transform(X_test)\n"
   ]
  },
  {
   "cell_type": "code",
   "execution_count": null,
   "id": "4135bc72",
   "metadata": {},
   "outputs": [],
   "source": [
    "knn = KNeighborsClassifier(n_neighbors=3)\n",
    "knn.fit(X_train_pca, y_train)\n",
    "y_pred_pca = knn.predict(X_test_pca)\n"
   ]
  },
  {
   "cell_type": "code",
   "execution_count": null,
   "id": "9b9571fa",
   "metadata": {},
   "outputs": [],
   "source": [
    "knn_full = KNeighborsClassifier(n_neighbors=3)\n",
    "knn_full.fit(X_train, y_train)\n",
    "y_pred_full = knn_full.predict(X_test)\n"
   ]
  },
  {
   "cell_type": "code",
   "execution_count": null,
   "id": "f7c2eda7",
   "metadata": {},
   "outputs": [],
   "source": [
    "accuracy_pca = accuracy_score(y_test, y_pred_pca)\n",
    "accuracy_full = accuracy_score(y_test, y_pred_full)\n",
    "\n",
    "print(f\"Dokładność klasyfikacji na danych zredukowanych za pomocą PCA: {accuracy_pca:.2f}\")\n",
    "print(f\"Dokładność klasyfikacji na pełnych danych: {accuracy_full:.2f}\")\n"
   ]
  },
  {
   "cell_type": "code",
   "execution_count": null,
   "id": "c997d422",
   "metadata": {},
   "outputs": [],
   "source": [
    "for i in range(1,len(explained_variance)+1):\n",
    "    pca = PCA(n_components=i)  # Wybierz liczbę komponentów głównych do zachowania\n",
    "    X_train_pca = pca.fit_transform(X_train)\n",
    "    X_test_pca = pca.transform(X_test)\n",
    "    knn = KNeighborsClassifier(n_neighbors=3)\n",
    "    knn.fit(X_train_pca, y_train)\n",
    "    y_pred_pca = knn.predict(X_test_pca)\n",
    "    accuracy_pca = accuracy_score(y_test, y_pred_pca)\n",
    "    print(f\"Dokładność klasyfikacji na danych zredukowanych za pomocą PCA: {accuracy_pca:.2f}, komponentów: {i}\")"
   ]
  },
  {
   "cell_type": "code",
   "execution_count": null,
   "id": "93f78380",
   "metadata": {},
   "outputs": [],
   "source": []
  }
 ],
 "metadata": {
  "kernelspec": {
   "display_name": "Python 3 (ipykernel)",
   "language": "python",
   "name": "python3"
  },
  "language_info": {
   "codemirror_mode": {
    "name": "ipython",
    "version": 3
   },
   "file_extension": ".py",
   "mimetype": "text/x-python",
   "name": "python",
   "nbconvert_exporter": "python",
   "pygments_lexer": "ipython3",
   "version": "3.9.7"
  }
 },
 "nbformat": 4,
 "nbformat_minor": 5
}
