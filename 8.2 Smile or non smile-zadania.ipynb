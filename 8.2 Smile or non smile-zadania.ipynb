{
 "cells": [
  {
   "cell_type": "code",
   "execution_count": null,
   "id": "7d91c8f8",
   "metadata": {},
   "outputs": [],
   "source": [
    "import numpy as np\n",
    "import matplotlib.pyplot as plt\n",
    "import tensorflow as tf\n",
    "import pandas as pd\n",
    "import os\n",
    "os.environ[\"KMP_DUPLICATE_LIB_OK\"]=\"TRUE\"\n",
    "os.environ['CUDA_VISIBLE_DEVICES'] = '-1'\n",
    "from tensorflow.keras.callbacks import EarlyStopping\n",
    "from tensorflow.keras.models import Sequential\n",
    "from tensorflow.keras.layers import Dense, Dropout, Conv2D, MaxPooling2D, Flatten\n",
    "from tensorflow.keras.layers import BatchNormalization\n",
    "from sklearn.model_selection import train_test_split\n",
    "from sklearn import preprocessing as p\n",
    "\n",
    "es = EarlyStopping(monitor = \"val_loss\", mode = \"min\", patience = 3)\n",
    "EPOCHS = 100\n"
   ]
  },
  {
   "cell_type": "code",
   "execution_count": null,
   "id": "e7cdaf15",
   "metadata": {},
   "outputs": [],
   "source": [
    "from keras.preprocessing.image import ImageDataGenerator\n",
    "\n",
    "root_path = \"data_images/\"\n",
    "\n",
    "gen = ImageDataGenerator(\n",
    "    rescale=1./255,\n",
    "    validation_split=0.2\n",
    ")\n",
    "\n",
    "# Load Data\n",
    "train_dataset = gen.flow_from_directory(\n",
    "    root_path,\n",
    "    class_mode=\"categorical\",\n",
    "    classes=[\"smile\",\"non_smile\"],\n",
    "    shuffle=True,\n",
    "    batch_size=32,\n",
    "    target_size=(64,64),\n",
    "    subset=\"training\"\n",
    ")\n",
    "\n",
    "validation_dataset = gen.flow_from_directory(\n",
    "    root_path,\n",
    "    class_mode=\"categorical\",\n",
    "    classes=[\"smile\",\"non_smile\"],\n",
    "    shuffle=True,\n",
    "    batch_size=32,\n",
    "    target_size=(64,64),\n",
    "    subset=\"validation\"\n",
    ")"
   ]
  },
  {
   "cell_type": "code",
   "execution_count": null,
   "id": "5051df5b",
   "metadata": {},
   "outputs": [],
   "source": [
    "#przygotuj siec konwolucyjna i wyświetl wykresy"
   ]
  },
  {
   "cell_type": "code",
   "execution_count": null,
   "id": "5dc47845",
   "metadata": {},
   "outputs": [],
   "source": [
    "img, label = validation_dataset.next()\n",
    "y_pred = model.predict(img)"
   ]
  },
  {
   "cell_type": "code",
   "execution_count": null,
   "id": "4236b051",
   "metadata": {},
   "outputs": [],
   "source": [
    "plt.figure(figsize=(10,10))\n",
    "\n",
    "for i in range(25):\n",
    "    plt.subplot(5,5,i+1)\n",
    "    plt.imshow(img[i])\n",
    "    plt.axis('off')\n",
    "    if np.round(y_pred[i])[0] == label[i][0]:\n",
    "        plt.title(\"ok\", color = 'green')\n",
    "    else:\n",
    "        plt.title(\"nie ok\", color = 'red')    "
   ]
  },
  {
   "cell_type": "code",
   "execution_count": null,
   "id": "c072ab6a",
   "metadata": {},
   "outputs": [],
   "source": []
  }
 ],
 "metadata": {
  "kernelspec": {
   "display_name": "Python 3 (ipykernel)",
   "language": "python",
   "name": "python3"
  },
  "language_info": {
   "codemirror_mode": {
    "name": "ipython",
    "version": 3
   },
   "file_extension": ".py",
   "mimetype": "text/x-python",
   "name": "python",
   "nbconvert_exporter": "python",
   "pygments_lexer": "ipython3",
   "version": "3.9.7"
  }
 },
 "nbformat": 4,
 "nbformat_minor": 5
}
