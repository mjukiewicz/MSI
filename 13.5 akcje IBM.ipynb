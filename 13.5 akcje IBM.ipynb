{
 "cells": [
  {
   "cell_type": "code",
   "execution_count": 23,
   "id": "b17e7872",
   "metadata": {},
   "outputs": [],
   "source": [
    "import warnings\n",
    "warnings.filterwarnings('ignore')\n",
    "import numpy as np\n",
    "import matplotlib.pyplot as plt\n",
    "import tensorflow as tf\n",
    "import pandas as pd\n",
    "import os\n",
    "os.environ[\"KMP_DUPLICATE_LIB_OK\"]=\"TRUE\"\n",
    "os.environ['CUDA_VISIBLE_DEVICES'] = '-1'\n",
    "from tensorflow.keras import Sequential\n",
    "from tensorflow.keras.layers import Flatten, Dense\n",
    "\n"
   ]
  },
  {
   "cell_type": "code",
   "execution_count": 24,
   "id": "b93083b2",
   "metadata": {},
   "outputs": [],
   "source": [
    "df = pd.read_csv('IBM_2006-01-01_to_2018-01-01.csv')"
   ]
  },
  {
   "cell_type": "code",
   "execution_count": 25,
   "id": "7fe18fbd",
   "metadata": {},
   "outputs": [],
   "source": [
    "df.dropna(inplace=True)"
   ]
  },
  {
   "cell_type": "code",
   "execution_count": 26,
   "id": "ff366751",
   "metadata": {},
   "outputs": [],
   "source": [
    "df = df.drop(['High', 'Low', 'Close', 'Volume', 'Name'], axis=1)"
   ]
  },
  {
   "cell_type": "code",
   "execution_count": 27,
   "id": "760470eb",
   "metadata": {},
   "outputs": [],
   "source": [
    "train_size = int(df.shape[0]*0.8)"
   ]
  },
  {
   "cell_type": "code",
   "execution_count": 28,
   "id": "7af9dc25",
   "metadata": {},
   "outputs": [],
   "source": [
    "train = df.iloc[:train_size, 1]\n",
    "test = df.iloc[train_size:, 1]"
   ]
  },
  {
   "cell_type": "code",
   "execution_count": 29,
   "id": "82a045bd",
   "metadata": {},
   "outputs": [],
   "source": [
    "train = np.array(train).reshape(-1, 1)\n",
    "test = np.array(test).reshape(-1, 1)"
   ]
  },
  {
   "cell_type": "code",
   "execution_count": 30,
   "id": "18ece562",
   "metadata": {},
   "outputs": [],
   "source": [
    "from sklearn.preprocessing import MinMaxScaler\n",
    "\n",
    "scaler = MinMaxScaler(feature_range=(-1, 1))\n",
    "train_sc = scaler.fit_transform(train)\n",
    "test_sc = scaler.transform(test)"
   ]
  },
  {
   "cell_type": "code",
   "execution_count": 31,
   "id": "4b4b1a32",
   "metadata": {},
   "outputs": [],
   "source": [
    "X_train = train_sc[:-1]\n",
    "y_train = train_sc[1:]"
   ]
  },
  {
   "cell_type": "code",
   "execution_count": 32,
   "id": "7e26e67b",
   "metadata": {},
   "outputs": [],
   "source": [
    "X_test = test_sc[:-1]\n",
    "y_test = test_sc[1:]"
   ]
  },
  {
   "cell_type": "code",
   "execution_count": 33,
   "id": "15bf19c2",
   "metadata": {},
   "outputs": [
    {
     "name": "stdout",
     "output_type": "stream",
     "text": [
      "Model: \"sequential_1\"\n",
      "_________________________________________________________________\n",
      " Layer (type)                Output Shape              Param #   \n",
      "=================================================================\n",
      " dense_2 (Dense)             (None, 12)                24        \n",
      "                                                                 \n",
      " dense_3 (Dense)             (None, 1)                 13        \n",
      "                                                                 \n",
      "=================================================================\n",
      "Total params: 37\n",
      "Trainable params: 37\n",
      "Non-trainable params: 0\n",
      "_________________________________________________________________\n",
      "Epoch 1/100\n",
      "76/76 [==============================] - 1s 5ms/step - loss: 0.1598 - val_loss: 0.0029\n",
      "Epoch 2/100\n",
      "76/76 [==============================] - 0s 4ms/step - loss: 0.0408 - val_loss: 0.0018\n",
      "Epoch 3/100\n",
      "76/76 [==============================] - 0s 4ms/step - loss: 0.0120 - val_loss: 0.0035\n",
      "Epoch 4/100\n",
      "76/76 [==============================] - 0s 4ms/step - loss: 0.0071 - val_loss: 0.0039\n",
      "Epoch 5/100\n",
      "76/76 [==============================] - 0s 4ms/step - loss: 0.0058 - val_loss: 0.0036\n",
      "Epoch 6/100\n",
      "76/76 [==============================] - 0s 4ms/step - loss: 0.0047 - val_loss: 0.0033\n",
      "Epoch 7/100\n",
      "76/76 [==============================] - 0s 4ms/step - loss: 0.0038 - val_loss: 0.0032\n",
      "Epoch 8/100\n",
      "76/76 [==============================] - 0s 4ms/step - loss: 0.0031 - val_loss: 0.0031\n",
      "Epoch 9/100\n",
      "76/76 [==============================] - 0s 4ms/step - loss: 0.0025 - val_loss: 0.0029\n",
      "Epoch 10/100\n",
      "76/76 [==============================] - 0s 4ms/step - loss: 0.0021 - val_loss: 0.0028\n",
      "Epoch 11/100\n",
      "76/76 [==============================] - 0s 4ms/step - loss: 0.0018 - val_loss: 0.0026\n",
      "Epoch 12/100\n",
      "76/76 [==============================] - 0s 4ms/step - loss: 0.0015 - val_loss: 0.0023\n",
      "Epoch 13/100\n",
      "76/76 [==============================] - 0s 4ms/step - loss: 0.0013 - val_loss: 0.0020\n",
      "Epoch 14/100\n",
      "76/76 [==============================] - 0s 4ms/step - loss: 0.0012 - val_loss: 0.0018\n",
      "Epoch 15/100\n",
      "76/76 [==============================] - 0s 4ms/step - loss: 0.0010 - val_loss: 0.0016\n",
      "Epoch 16/100\n",
      "76/76 [==============================] - 0s 4ms/step - loss: 9.4612e-04 - val_loss: 0.0014\n",
      "Epoch 17/100\n",
      "76/76 [==============================] - 0s 4ms/step - loss: 8.6427e-04 - val_loss: 0.0013\n",
      "Epoch 18/100\n",
      "76/76 [==============================] - 0s 4ms/step - loss: 8.0601e-04 - val_loss: 0.0011\n",
      "Epoch 19/100\n",
      "76/76 [==============================] - 0s 4ms/step - loss: 7.6128e-04 - val_loss: 0.0010\n",
      "Epoch 20/100\n",
      "76/76 [==============================] - 0s 4ms/step - loss: 7.2952e-04 - val_loss: 9.8133e-04\n",
      "Epoch 21/100\n",
      "76/76 [==============================] - 0s 4ms/step - loss: 7.0573e-04 - val_loss: 8.2795e-04\n",
      "Epoch 22/100\n",
      "76/76 [==============================] - 0s 4ms/step - loss: 6.8850e-04 - val_loss: 7.5665e-04\n",
      "Epoch 23/100\n",
      "76/76 [==============================] - 0s 4ms/step - loss: 6.7496e-04 - val_loss: 7.3011e-04\n",
      "Epoch 24/100\n",
      "76/76 [==============================] - 0s 4ms/step - loss: 6.6800e-04 - val_loss: 6.9558e-04\n",
      "Epoch 25/100\n",
      "76/76 [==============================] - 0s 4ms/step - loss: 6.6035e-04 - val_loss: 6.6933e-04\n",
      "Epoch 26/100\n",
      "76/76 [==============================] - 0s 4ms/step - loss: 6.5527e-04 - val_loss: 6.4001e-04\n",
      "Epoch 27/100\n",
      "76/76 [==============================] - 0s 4ms/step - loss: 6.5561e-04 - val_loss: 6.2772e-04\n",
      "Epoch 28/100\n",
      "76/76 [==============================] - 0s 4ms/step - loss: 6.5052e-04 - val_loss: 6.4184e-04\n",
      "Epoch 29/100\n",
      "76/76 [==============================] - 0s 4ms/step - loss: 6.5565e-04 - val_loss: 6.1926e-04\n",
      "Epoch 30/100\n",
      "76/76 [==============================] - 0s 4ms/step - loss: 6.5178e-04 - val_loss: 5.9675e-04\n",
      "Epoch 31/100\n",
      "76/76 [==============================] - 0s 4ms/step - loss: 6.5129e-04 - val_loss: 5.9853e-04\n",
      "Epoch 32/100\n",
      "76/76 [==============================] - 0s 4ms/step - loss: 6.4949e-04 - val_loss: 6.0654e-04\n",
      "Epoch 33/100\n",
      "76/76 [==============================] - 0s 4ms/step - loss: 6.4901e-04 - val_loss: 6.2465e-04\n",
      "Epoch 34/100\n",
      "76/76 [==============================] - 0s 4ms/step - loss: 6.5243e-04 - val_loss: 6.0077e-04\n",
      "Epoch 35/100\n",
      "76/76 [==============================] - 0s 4ms/step - loss: 6.5541e-04 - val_loss: 6.0810e-04\n",
      "Epoch 36/100\n",
      "76/76 [==============================] - 0s 4ms/step - loss: 6.4940e-04 - val_loss: 5.8614e-04\n",
      "Epoch 37/100\n",
      "76/76 [==============================] - 0s 4ms/step - loss: 6.4974e-04 - val_loss: 6.2127e-04\n",
      "Epoch 38/100\n",
      "76/76 [==============================] - 0s 4ms/step - loss: 6.5513e-04 - val_loss: 6.0433e-04\n",
      "Epoch 39/100\n",
      "76/76 [==============================] - 0s 4ms/step - loss: 6.5103e-04 - val_loss: 5.9914e-04\n",
      "Epoch 40/100\n",
      "76/76 [==============================] - 0s 4ms/step - loss: 6.5128e-04 - val_loss: 5.9619e-04\n",
      "Epoch 41/100\n",
      "76/76 [==============================] - 0s 4ms/step - loss: 6.5455e-04 - val_loss: 5.9090e-04\n",
      "Epoch 42/100\n",
      "76/76 [==============================] - 0s 4ms/step - loss: 6.5471e-04 - val_loss: 5.9504e-04\n",
      "Epoch 43/100\n",
      "76/76 [==============================] - 0s 4ms/step - loss: 6.5716e-04 - val_loss: 6.2666e-04\n",
      "Epoch 44/100\n",
      "76/76 [==============================] - 0s 4ms/step - loss: 6.5472e-04 - val_loss: 5.8818e-04\n",
      "Epoch 45/100\n",
      "76/76 [==============================] - 0s 4ms/step - loss: 6.4841e-04 - val_loss: 5.8934e-04\n",
      "Epoch 46/100\n",
      "76/76 [==============================] - 0s 4ms/step - loss: 6.5265e-04 - val_loss: 5.8917e-04\n",
      "Epoch 47/100\n",
      "76/76 [==============================] - 0s 4ms/step - loss: 6.5043e-04 - val_loss: 5.9005e-04\n",
      "Epoch 48/100\n",
      "76/76 [==============================] - 0s 4ms/step - loss: 6.4936e-04 - val_loss: 5.9467e-04\n",
      "Epoch 49/100\n",
      "76/76 [==============================] - 0s 4ms/step - loss: 6.6218e-04 - val_loss: 5.9065e-04\n",
      "Epoch 50/100\n",
      "76/76 [==============================] - 0s 4ms/step - loss: 6.5220e-04 - val_loss: 5.8579e-04\n",
      "Epoch 51/100\n",
      "76/76 [==============================] - 0s 4ms/step - loss: 6.5445e-04 - val_loss: 5.8445e-04\n",
      "Epoch 52/100\n",
      "76/76 [==============================] - 0s 4ms/step - loss: 6.5188e-04 - val_loss: 5.9112e-04\n",
      "Epoch 53/100\n",
      "76/76 [==============================] - 0s 4ms/step - loss: 6.5442e-04 - val_loss: 5.9264e-04\n",
      "Epoch 54/100\n",
      "76/76 [==============================] - 0s 4ms/step - loss: 6.5307e-04 - val_loss: 5.9163e-04\n",
      "Epoch 55/100\n",
      "76/76 [==============================] - 0s 3ms/step - loss: 6.5757e-04 - val_loss: 5.8924e-04\n",
      "Epoch 56/100\n",
      "76/76 [==============================] - 0s 3ms/step - loss: 6.5208e-04 - val_loss: 5.9460e-04\n",
      "Epoch 57/100\n",
      "76/76 [==============================] - 0s 3ms/step - loss: 6.5379e-04 - val_loss: 6.0557e-04\n",
      "Epoch 58/100\n",
      "76/76 [==============================] - 0s 4ms/step - loss: 6.5573e-04 - val_loss: 5.8059e-04\n",
      "Epoch 59/100\n",
      "76/76 [==============================] - 0s 4ms/step - loss: 6.5085e-04 - val_loss: 5.8974e-04\n",
      "Epoch 60/100\n",
      "76/76 [==============================] - 0s 4ms/step - loss: 6.5718e-04 - val_loss: 5.8708e-04\n",
      "Epoch 61/100\n",
      "76/76 [==============================] - 0s 4ms/step - loss: 6.5263e-04 - val_loss: 6.3690e-04\n",
      "Epoch 62/100\n",
      "76/76 [==============================] - 0s 4ms/step - loss: 6.5644e-04 - val_loss: 6.0192e-04\n",
      "Epoch 63/100\n",
      "76/76 [==============================] - 0s 4ms/step - loss: 6.5382e-04 - val_loss: 5.9517e-04\n",
      "Epoch 64/100\n",
      "76/76 [==============================] - 0s 4ms/step - loss: 6.5084e-04 - val_loss: 5.9196e-04\n",
      "Epoch 65/100\n",
      "76/76 [==============================] - 0s 4ms/step - loss: 6.5396e-04 - val_loss: 5.9676e-04\n",
      "Epoch 66/100\n",
      "76/76 [==============================] - 0s 4ms/step - loss: 6.5920e-04 - val_loss: 5.9363e-04\n",
      "Epoch 67/100\n",
      "76/76 [==============================] - 0s 4ms/step - loss: 6.5259e-04 - val_loss: 6.0418e-04\n",
      "Epoch 68/100\n",
      "76/76 [==============================] - 0s 4ms/step - loss: 6.5635e-04 - val_loss: 5.9078e-04\n",
      "Epoch 69/100\n",
      "76/76 [==============================] - 0s 4ms/step - loss: 6.5382e-04 - val_loss: 6.0351e-04\n",
      "Epoch 70/100\n",
      "76/76 [==============================] - 0s 4ms/step - loss: 6.5503e-04 - val_loss: 5.9048e-04\n",
      "Epoch 71/100\n",
      "76/76 [==============================] - 0s 4ms/step - loss: 6.5843e-04 - val_loss: 5.9971e-04\n"
     ]
    },
    {
     "name": "stdout",
     "output_type": "stream",
     "text": [
      "Epoch 72/100\n",
      "76/76 [==============================] - 0s 4ms/step - loss: 6.5737e-04 - val_loss: 6.0163e-04\n",
      "Epoch 73/100\n",
      "76/76 [==============================] - 0s 4ms/step - loss: 6.5391e-04 - val_loss: 6.0222e-04\n",
      "Epoch 74/100\n",
      "76/76 [==============================] - 0s 4ms/step - loss: 6.5280e-04 - val_loss: 5.9667e-04\n",
      "Epoch 75/100\n",
      "76/76 [==============================] - 0s 4ms/step - loss: 6.7067e-04 - val_loss: 5.8474e-04\n",
      "Epoch 76/100\n",
      "76/76 [==============================] - 0s 4ms/step - loss: 6.7507e-04 - val_loss: 5.8323e-04\n",
      "Epoch 77/100\n",
      "76/76 [==============================] - 0s 4ms/step - loss: 6.5514e-04 - val_loss: 5.8413e-04\n",
      "Epoch 78/100\n",
      "76/76 [==============================] - 0s 4ms/step - loss: 6.5377e-04 - val_loss: 5.9977e-04\n",
      "Epoch 79/100\n",
      "76/76 [==============================] - 0s 4ms/step - loss: 6.5586e-04 - val_loss: 5.8531e-04\n",
      "Epoch 80/100\n",
      "76/76 [==============================] - 0s 4ms/step - loss: 6.5731e-04 - val_loss: 5.9080e-04\n",
      "Epoch 81/100\n",
      "76/76 [==============================] - 0s 4ms/step - loss: 6.5672e-04 - val_loss: 5.8757e-04\n",
      "Epoch 82/100\n",
      "76/76 [==============================] - 0s 4ms/step - loss: 6.6277e-04 - val_loss: 5.8489e-04\n",
      "Epoch 83/100\n",
      "76/76 [==============================] - 0s 4ms/step - loss: 6.6172e-04 - val_loss: 6.2013e-04\n",
      "Epoch 84/100\n",
      "76/76 [==============================] - 0s 4ms/step - loss: 6.5659e-04 - val_loss: 6.1299e-04\n",
      "Epoch 85/100\n",
      "76/76 [==============================] - 0s 4ms/step - loss: 6.5456e-04 - val_loss: 5.9329e-04\n",
      "Epoch 86/100\n",
      "76/76 [==============================] - 0s 4ms/step - loss: 6.5323e-04 - val_loss: 6.2822e-04\n",
      "Epoch 87/100\n",
      "76/76 [==============================] - 0s 4ms/step - loss: 6.6318e-04 - val_loss: 5.8573e-04\n",
      "Epoch 88/100\n",
      "76/76 [==============================] - 0s 4ms/step - loss: 6.6064e-04 - val_loss: 6.0017e-04\n",
      "Epoch 89/100\n",
      "76/76 [==============================] - 0s 4ms/step - loss: 6.6413e-04 - val_loss: 5.8554e-04\n",
      "Epoch 90/100\n",
      "76/76 [==============================] - 0s 4ms/step - loss: 6.5300e-04 - val_loss: 5.9112e-04\n",
      "Epoch 91/100\n",
      "76/76 [==============================] - 0s 4ms/step - loss: 6.6001e-04 - val_loss: 6.1865e-04\n",
      "Epoch 92/100\n",
      "76/76 [==============================] - 0s 4ms/step - loss: 6.5872e-04 - val_loss: 5.8839e-04\n",
      "Epoch 93/100\n",
      "76/76 [==============================] - 0s 4ms/step - loss: 6.5992e-04 - val_loss: 5.8611e-04\n",
      "Epoch 94/100\n",
      "76/76 [==============================] - 0s 4ms/step - loss: 6.5825e-04 - val_loss: 5.8819e-04\n",
      "Epoch 95/100\n",
      "76/76 [==============================] - 0s 4ms/step - loss: 6.6103e-04 - val_loss: 6.0387e-04\n",
      "Epoch 96/100\n",
      "76/76 [==============================] - 0s 4ms/step - loss: 6.5217e-04 - val_loss: 5.9411e-04\n",
      "Epoch 97/100\n",
      "76/76 [==============================] - 0s 4ms/step - loss: 6.5371e-04 - val_loss: 5.7936e-04\n",
      "Epoch 98/100\n",
      "76/76 [==============================] - 0s 4ms/step - loss: 6.5797e-04 - val_loss: 6.2804e-04\n",
      "Epoch 99/100\n",
      "76/76 [==============================] - 0s 4ms/step - loss: 6.5485e-04 - val_loss: 5.8913e-04\n",
      "Epoch 100/100\n",
      "76/76 [==============================] - 0s 4ms/step - loss: 6.5478e-04 - val_loss: 6.0474e-04\n"
     ]
    }
   ],
   "source": [
    "model = Sequential()\n",
    "model.add(Dense(12, input_dim = 1, activation = 'relu'))\n",
    "model.add(Dense(1, activation = 'linear'))\n",
    "\n",
    "model.summary()\n",
    "\n",
    "model.compile(optimizer='adam',\n",
    "              loss='mean_squared_error')\n",
    "history = model.fit(X_train, y_train, epochs=100, validation_data=(X_test, y_test))"
   ]
  },
  {
   "cell_type": "code",
   "execution_count": 34,
   "id": "7c5c40c1",
   "metadata": {},
   "outputs": [
    {
     "name": "stdout",
     "output_type": "stream",
     "text": [
      "19/19 [==============================] - 0s 2ms/step\n"
     ]
    }
   ],
   "source": [
    "y_pred = model.predict(X_test)"
   ]
  },
  {
   "cell_type": "code",
   "execution_count": 35,
   "id": "77c93ad1",
   "metadata": {},
   "outputs": [
    {
     "name": "stderr",
     "output_type": "stream",
     "text": [
      "No artists with labels found to put in legend.  Note that artists whose label start with an underscore are ignored when legend() is called with no argument.\n"
     ]
    },
    {
     "data": {
      "text/plain": [
       "<matplotlib.legend.Legend at 0x7f7760653700>"
      ]
     },
     "execution_count": 35,
     "metadata": {},
     "output_type": "execute_result"
    },
    {
     "data": {
      "image/png": "[encoded data removed]",
      "text/plain": [
       "<Figure size 640x480 with 1 Axes>"
      ]
     },
     "metadata": {},
     "output_type": "display_data"
    }
   ],
   "source": [
    "plt.plot(y_test)\n",
    "plt.plot(y_pred)\n",
    "plt.xlabel(\"Sample\")\n",
    "plt.ylabel(\"Temperature [C]\")\n",
    "plt.legend()"
   ]
  },
  {
   "cell_type": "code",
   "execution_count": 36,
   "id": "5b318306",
   "metadata": {},
   "outputs": [
    {
     "data": {
      "text/plain": [
       "0.9798054825554211"
      ]
     },
     "execution_count": 36,
     "metadata": {},
     "output_type": "execute_result"
    }
   ],
   "source": [
    "from sklearn.metrics import r2_score\n",
    "r2_score(y_test, y_pred)"
   ]
  }
 ],
 "metadata": {
  "kernelspec": {
   "display_name": "Python 3 (ipykernel)",
   "language": "python",
   "name": "python3"
  },
  "language_info": {
   "codemirror_mode": {
    "name": "ipython",
    "version": 3
   },
   "file_extension": ".py",
   "mimetype": "text/x-python",
   "name": "python",
   "nbconvert_exporter": "python",
   "pygments_lexer": "ipython3",
   "version": "3.9.7"
  }
 },
 "nbformat": 4,
 "nbformat_minor": 5
}
