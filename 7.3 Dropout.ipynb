{
 "cells": [
  {
   "cell_type": "code",
   "execution_count": null,
   "id": "d5074bd2",
   "metadata": {},
   "outputs": [],
   "source": [
    "import tensorflow as tf\n",
    "from tensorflow.keras.datasets import mnist\n",
    "from tensorflow.keras.models import Sequential\n",
    "from tensorflow.keras.layers import Dense, Dropout, Flatten\n",
    "import matplotlib.pyplot as plt\n",
    "import os \n",
    "os.environ[\"KMP_DUPLICATE_LIB_OK\"]=\"TRUE\"\n",
    "os.environ['CUDA_VISIBLE_DEVICES'] = '-1'\n",
    "\n",
    "# Załaduj dane MNIST\n",
    "(x_train, y_train), (x_test, y_test) = mnist.load_data()\n",
    "\n",
    "# Normalizacja danych\n",
    "x_train, x_test = x_train / 255.0, x_test / 255.0\n"
   ]
  },
  {
   "cell_type": "code",
   "execution_count": null,
   "id": "9795d137",
   "metadata": {},
   "outputs": [],
   "source": [
    "# Tworzenie modelu z warstwą Dropout\n",
    "model_with_dropout = Sequential([\n",
    "    tf.keras.layers.Flatten(input_shape=(28, 28)),\n",
    "    Dense(256, activation='relu'),\n",
    "    Dropout(0.2),  # Dodanie warstwy Dropout\n",
    "    Dense(10, activation='softmax')\n",
    "])\n",
    "\n",
    "# Tworzenie modelu bez warstwy Dropout\n",
    "model_without_dropout = Sequential([\n",
    "    tf.keras.layers.Flatten(input_shape=(28, 28)),\n",
    "    Dense(256, activation='relu'),\n",
    "    Dense(10, activation='softmax')\n",
    "])\n"
   ]
  },
  {
   "cell_type": "code",
   "execution_count": null,
   "id": "91a8b0b8",
   "metadata": {},
   "outputs": [],
   "source": [
    "# Kompilacja modeli\n",
    "model_with_dropout.compile(optimizer='adam', \n",
    "                           loss='sparse_categorical_crossentropy', metrics=['accuracy'])\n",
    "model_without_dropout.compile(optimizer='adam', \n",
    "                              loss='sparse_categorical_crossentropy', metrics=['accuracy'])\n",
    "\n",
    "# Uczenie modeli\n",
    "history_with_dropout = model_with_dropout.fit(x_train, y_train, epochs=10, \n",
    "                                              validation_data=(x_test, y_test), verbose=0)\n",
    "history_without_dropout = model_without_dropout.fit(x_train, y_train, epochs=10, \n",
    "                                                    validation_data=(x_test, y_test), verbose=0)\n"
   ]
  },
  {
   "cell_type": "code",
   "execution_count": null,
   "id": "88eb916c",
   "metadata": {},
   "outputs": [],
   "source": [
    "# Wykresy porównawcze\n",
    "plt.figure(figsize=(12, 4))\n",
    "\n",
    "plt.subplot(1, 2, 1)\n",
    "plt.plot(history_with_dropout.history['accuracy'], label='Trening')\n",
    "plt.plot(history_with_dropout.history['val_accuracy'], label='Test')\n",
    "plt.title('Model z Dropout')\n",
    "plt.xlabel('Epochs')\n",
    "plt.ylabel('Accuracy')\n",
    "plt.legend()\n",
    "\n",
    "plt.subplot(1, 2, 2)\n",
    "plt.plot(history_without_dropout.history['accuracy'], label='Trening')\n",
    "plt.plot(history_without_dropout.history['val_accuracy'], label='Test')\n",
    "plt.title('Model bez Dropout')\n",
    "plt.xlabel('Epochs')\n",
    "plt.ylabel('Accuracy')\n",
    "plt.legend()\n",
    "\n",
    "plt.tight_layout()\n",
    "plt.show()"
   ]
  },
  {
   "cell_type": "code",
   "execution_count": null,
   "id": "1a4f7b8a",
   "metadata": {},
   "outputs": [],
   "source": []
  }
 ],
 "metadata": {
  "kernelspec": {
   "display_name": "Python 3 (ipykernel)",
   "language": "python",
   "name": "python3"
  },
  "language_info": {
   "codemirror_mode": {
    "name": "ipython",
    "version": 3
   },
   "file_extension": ".py",
   "mimetype": "text/x-python",
   "name": "python",
   "nbconvert_exporter": "python",
   "pygments_lexer": "ipython3",
   "version": "3.9.7"
  }
 },
 "nbformat": 4,
 "nbformat_minor": 5
}
