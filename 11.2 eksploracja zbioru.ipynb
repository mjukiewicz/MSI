{
 "cells": [
  {
   "cell_type": "code",
   "execution_count": null,
   "id": "0dd96726",
   "metadata": {},
   "outputs": [],
   "source": [
    "import numpy as np\n",
    "import matplotlib.pyplot as plt\n",
    "import tensorflow as tf\n",
    "import pandas as pd\n",
    "import os\n",
    "os.environ[\"KMP_DUPLICATE_LIB_OK\"]=\"TRUE\"\n",
    "os.environ['CUDA_VISIBLE_DEVICES'] = '-1'\n",
    "from tensorflow.keras.callbacks import EarlyStopping\n",
    "from tensorflow.keras.models import Sequential\n",
    "from tensorflow.keras.layers import Dense, Dropout\n",
    "from tensorflow.keras.layers import BatchNormalization\n",
    "\n",
    "es = EarlyStopping(monitor = \"val_loss\", mode = \"min\", patience = 5)\n",
    "\n",
    "EPOCHS = 1000"
   ]
  },
  {
   "cell_type": "code",
   "execution_count": null,
   "id": "e667796f",
   "metadata": {},
   "outputs": [],
   "source": [
    "df = pd.read_csv('IMDB Dataset.csv', sep=\",\")"
   ]
  },
  {
   "cell_type": "code",
   "execution_count": null,
   "id": "034b8c03",
   "metadata": {},
   "outputs": [],
   "source": [
    "df"
   ]
  },
  {
   "cell_type": "code",
   "execution_count": null,
   "id": "238f997f",
   "metadata": {},
   "outputs": [],
   "source": [
    "df['review'][0]"
   ]
  },
  {
   "cell_type": "code",
   "execution_count": null,
   "id": "4cbfc23f",
   "metadata": {},
   "outputs": [],
   "source": [
    "import re\n",
    "import string\n",
    "import nltk\n",
    "from nltk.corpus import stopwords\n",
    "from nltk.stem import WordNetLemmatizer\n",
    "from nltk.stem.porter import *\n",
    "from tqdm import tqdm\n",
    "from nltk import sent_tokenize,word_tokenize\n",
    "\n",
    "nltk.download('stopwords')\n",
    "nltk.download('punkt')\n",
    "nltk.download('wordnet')\n",
    "nltk.download('omw-1.4')"
   ]
  },
  {
   "cell_type": "code",
   "execution_count": null,
   "id": "2abee84b",
   "metadata": {},
   "outputs": [],
   "source": [
    "main = []\n",
    "\n",
    "# Storing all punctuations using RE library like !;,\"% etc\n",
    "re_puncs = re.compile('[%s]' % re.escape(string.punctuation))\n",
    "# Storing all stop words like a, an, the, when, there, this etc\n",
    "stop_word  = set(stopwords.words('english'))\n",
    "stop_word.add(\"im\")\n",
    "# print(stop_word)\n"
   ]
  },
  {
   "cell_type": "code",
   "execution_count": null,
   "id": "b6f2b914",
   "metadata": {},
   "outputs": [],
   "source": [
    "sentences_listed = [line.split(\" \") for line in df['review']]\n",
    "\n",
    "import gensim\n",
    "\n",
    "word_model = gensim.models.Word2Vec(sentences = sentences_listed, vector_size = 10)\n",
    "words = list(word_model.wv.key_to_index)\n",
    "print(len(words))"
   ]
  },
  {
   "cell_type": "code",
   "execution_count": null,
   "id": "76436018",
   "metadata": {},
   "outputs": [],
   "source": [
    "word_model.wv.most_similar(\"actress\")"
   ]
  },
  {
   "cell_type": "code",
   "execution_count": null,
   "id": "3d2ed4ea",
   "metadata": {},
   "outputs": [],
   "source": [
    "# Making Lemmatizing object\n",
    "lem = WordNetLemmatizer()\n",
    "# Using Porter Stemmer\n",
    "p_stem = PorterStemmer()\n",
    "\n",
    "# Traversing whole dataset\n",
    "for i in tqdm(range(len(df['review']))):\n",
    "    # Tokenization\n",
    "    tokens = word_tokenize(str(df['review'][i]))\n",
    "    # Converting all characters to lower case\n",
    "    tokens = [w.lower() for w in tokens]\n",
    "    # Remove all punctuations from sentenses\n",
    "    tokens = [re_puncs.sub('', w) for w in tokens]\n",
    "    # Checking all words is alphabets or not\n",
    "    tokens = [i for i in tokens if i.isalpha()]\n",
    "    # Removing all stop words from the sentenses\n",
    "    tokens = [w for w in tokens if w not in stop_word]\n",
    "    # Doing Lemmatizing of words\n",
    "    tokens = [lem.lemmatize(w) for w in tokens]\n",
    "    # Stemming process\n",
    "    tokens = [p_stem.stem(w) for w in tokens]\n",
    "    # Finally convert to string\n",
    "    r = ' '.join(tokens)\n",
    "    # Storing the final string into main list\n",
    "    main.append(r)\n",
    "    \n",
    "#https://www.kaggle.com/code/tanujdhiman/twitter-sentiment-analysis"
   ]
  },
  {
   "cell_type": "code",
   "execution_count": null,
   "id": "cdf001c6",
   "metadata": {},
   "outputs": [],
   "source": [
    "df['translated'] = main"
   ]
  },
  {
   "cell_type": "code",
   "execution_count": null,
   "id": "916194b0",
   "metadata": {},
   "outputs": [],
   "source": [
    "df"
   ]
  },
  {
   "cell_type": "code",
   "execution_count": null,
   "id": "1c15f65a",
   "metadata": {},
   "outputs": [],
   "source": [
    "df['translated'][0]"
   ]
  },
  {
   "cell_type": "code",
   "execution_count": null,
   "id": "47af337c",
   "metadata": {},
   "outputs": [],
   "source": [
    "from tensorflow.keras.preprocessing.text import Tokenizer\n",
    "tokenizer = Tokenizer()\n",
    "tokenizer.fit_on_texts(df['translated'])"
   ]
  },
  {
   "cell_type": "code",
   "execution_count": null,
   "id": "6cfcb6b4",
   "metadata": {},
   "outputs": [],
   "source": [
    "print(len(tokenizer.word_counts))"
   ]
  },
  {
   "cell_type": "code",
   "execution_count": null,
   "id": "436d4afb",
   "metadata": {},
   "outputs": [],
   "source": [
    "counter = 0\n",
    "for key, value in tokenizer.word_counts.items():\n",
    "    if value > 40:\n",
    "        print(key, value)\n",
    "        counter+=1\n",
    "        \n",
    "print(counter)"
   ]
  },
  {
   "cell_type": "code",
   "execution_count": null,
   "id": "27275f17",
   "metadata": {},
   "outputs": [],
   "source": [
    "tokenizer.texts_to_sequences(df['translated'])"
   ]
  },
  {
   "cell_type": "code",
   "execution_count": null,
   "id": "eb02fbe6",
   "metadata": {},
   "outputs": [],
   "source": [
    "tokenized_reviews = tokenizer.texts_to_sequences(df['translated'])\n",
    "print(tokenized_reviews[0])"
   ]
  },
  {
   "cell_type": "code",
   "execution_count": null,
   "id": "065e3cea",
   "metadata": {},
   "outputs": [],
   "source": []
  }
 ],
 "metadata": {
  "kernelspec": {
   "display_name": "Python 3 (ipykernel)",
   "language": "python",
   "name": "python3"
  },
  "language_info": {
   "codemirror_mode": {
    "name": "ipython",
    "version": 3
   },
   "file_extension": ".py",
   "mimetype": "text/x-python",
   "name": "python",
   "nbconvert_exporter": "python",
   "pygments_lexer": "ipython3",
   "version": "3.9.7"
  }
 },
 "nbformat": 4,
 "nbformat_minor": 5
}
