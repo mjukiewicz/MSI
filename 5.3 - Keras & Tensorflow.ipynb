{
 "cells": [
  {
   "cell_type": "code",
   "execution_count": null,
   "id": "1263d2f6",
   "metadata": {},
   "outputs": [],
   "source": [
    "import warnings\n",
    "warnings.filterwarnings('ignore')\n",
    "import numpy as np\n",
    "import matplotlib.pyplot as plt\n",
    "import tensorflow as tf\n",
    "import pandas as pd\n",
    "\n",
    "df = pd.read_csv('heart.csv')"
   ]
  },
  {
   "cell_type": "code",
   "execution_count": null,
   "id": "19ac6f34",
   "metadata": {},
   "outputs": [],
   "source": [
    "df"
   ]
  },
  {
   "cell_type": "code",
   "execution_count": null,
   "id": "68206328",
   "metadata": {},
   "outputs": [],
   "source": [
    "from sklearn import preprocessing as p\n",
    "from sklearn.model_selection import train_test_split\n",
    "\n",
    "df_scaled = p.StandardScaler().fit_transform(df.iloc[:, :-1])\n",
    "\n",
    "X_train, X_val, y_train, y_val = train_test_split(df_scaled, df.iloc[:, -1], train_size = 0.8, random_state=1)"
   ]
  },
  {
   "cell_type": "code",
   "execution_count": null,
   "id": "3c84eb72",
   "metadata": {},
   "outputs": [],
   "source": [
    "from tensorflow.keras import Sequential\n",
    "from tensorflow.keras.layers import Input, Dense\n",
    "\n",
    "model = Sequential([\n",
    "            Input(shape = (13)),\n",
    "            Dense(8, activation = 'relu'),\n",
    "            Dense(1)\n",
    "        ])"
   ]
  },
  {
   "cell_type": "code",
   "execution_count": null,
   "id": "7ceb79d3",
   "metadata": {},
   "outputs": [],
   "source": [
    "model.summary()"
   ]
  },
  {
   "cell_type": "code",
   "execution_count": null,
   "id": "51532193",
   "metadata": {},
   "outputs": [],
   "source": [
    "model.compile(optimizer='adam',\n",
    "              loss='binary_crossentropy',\n",
    "              metrics=['accuracy'])"
   ]
  },
  {
   "cell_type": "code",
   "execution_count": null,
   "id": "b064eea7",
   "metadata": {},
   "outputs": [],
   "source": [
    "EPOCHS = 100\n",
    "\n",
    "history = model.fit(X_train, y_train, epochs = EPOCHS, validation_data=(X_val, y_val))"
   ]
  },
  {
   "cell_type": "code",
   "execution_count": null,
   "id": "2fd4ba57",
   "metadata": {},
   "outputs": [],
   "source": [
    "hist = pd.DataFrame(history.history)"
   ]
  },
  {
   "cell_type": "code",
   "execution_count": null,
   "id": "4891cc7a",
   "metadata": {},
   "outputs": [],
   "source": [
    "hist"
   ]
  },
  {
   "cell_type": "code",
   "execution_count": null,
   "id": "f1814a52",
   "metadata": {},
   "outputs": [],
   "source": [
    "plt.figure(figsize=(10,6))\n",
    "plt.subplot(1,2,1)\n",
    "plt.plot(hist.loss, label = \"loss\")\n",
    "plt.plot(hist.val_loss, label = \"val_loss\")\n",
    "plt.xlabel(\"epoch\")\n",
    "plt.ylabel(\"loss\")\n",
    "plt.legend()\n",
    "\n",
    "plt.subplot(1,2,2)\n",
    "plt.plot(hist.accuracy, label = \"accuracy\")\n",
    "plt.plot(hist.val_accuracy, label = \"val_accuracy\")\n",
    "plt.xlabel(\"epoch\")\n",
    "plt.ylabel(\"accuracy\")\n",
    "plt.legend()"
   ]
  },
  {
   "cell_type": "code",
   "execution_count": null,
   "id": "0761db5d",
   "metadata": {},
   "outputs": [],
   "source": [
    "model_big = Sequential([\n",
    "                Input(shape = (13)),\n",
    "                Dense(64, activation = 'relu'),\n",
    "                Dense(16, activation = 'relu'),\n",
    "                Dense(1)\n",
    "            ])\n",
    "model_big.compile(optimizer='adam',\n",
    "              loss='binary_crossentropy',\n",
    "              metrics=['accuracy'])\n",
    "EPOCHS = 100\n",
    "\n",
    "history_big = model_big.fit(X_train, y_train, epochs = EPOCHS, validation_data=(X_val, y_val))\n"
   ]
  },
  {
   "cell_type": "code",
   "execution_count": null,
   "id": "8e93560e",
   "metadata": {},
   "outputs": [],
   "source": [
    "hist_big = pd.DataFrame(history_big.history)\n",
    "\n",
    "plt.figure(figsize=(10,6))\n",
    "plt.subplot(1,2,1)\n",
    "plt.plot(hist_big.loss, label = \"loss\")\n",
    "plt.plot(hist_big.val_loss, label = \"val_loss\")\n",
    "plt.xlabel(\"epoch\")\n",
    "plt.ylabel(\"loss\")\n",
    "plt.legend()\n",
    "\n",
    "plt.subplot(1,2,2)\n",
    "plt.plot(hist_big.accuracy, label = \"accuracy\")\n",
    "plt.plot(hist_big.val_accuracy, label = \"val_accuracy\")\n",
    "plt.xlabel(\"epoch\")\n",
    "plt.ylabel(\"accuracy\")\n",
    "plt.legend()"
   ]
  },
  {
   "cell_type": "code",
   "execution_count": null,
   "id": "24914411",
   "metadata": {},
   "outputs": [],
   "source": [
    "model_small = Sequential([\n",
    "                Input(shape = (13)),\n",
    "                Dense(8, activation = 'relu'),\n",
    "                Dense(4, activation = 'relu'),\n",
    "                Dense(1)\n",
    "            ])\n",
    "model_small.compile(optimizer='adam',\n",
    "              loss='binary_crossentropy',\n",
    "              metrics=['accuracy'])\n",
    "EPOCHS = 100\n",
    "\n",
    "history_small = model_small.fit(X_train, y_train, epochs = EPOCHS, validation_data=(X_val, y_val))\n"
   ]
  },
  {
   "cell_type": "code",
   "execution_count": null,
   "id": "ce6220b5",
   "metadata": {},
   "outputs": [],
   "source": [
    "hist_small = pd.DataFrame(history_small.history)\n",
    "\n",
    "plt.figure(figsize=(10,6))\n",
    "plt.subplot(1,2,1)\n",
    "plt.plot(hist_small.loss, label = \"loss\")\n",
    "plt.plot(hist_small.val_loss, label = \"val_loss\")\n",
    "plt.xlabel(\"epoch\")\n",
    "plt.ylabel(\"loss\")\n",
    "plt.legend()\n",
    "\n",
    "plt.subplot(1,2,2)\n",
    "plt.plot(hist_small.accuracy, label = \"accuracy\")\n",
    "plt.plot(hist_small.val_accuracy, label = \"val_accuracy\")\n",
    "plt.xlabel(\"epoch\")\n",
    "plt.ylabel(\"accuracy\")\n",
    "plt.legend()"
   ]
  },
  {
   "cell_type": "code",
   "execution_count": null,
   "id": "0f2044b2",
   "metadata": {},
   "outputs": [],
   "source": [
    "model_tiny = Sequential([\n",
    "                Input(shape = (13)),\n",
    "                Dense(4, activation = 'relu'),\n",
    "                Dense(2, activation = 'relu'),\n",
    "                Dense(1)\n",
    "            ])\n",
    "model_tiny.compile(optimizer='adam',\n",
    "              loss='binary_crossentropy',\n",
    "              metrics=['accuracy'])\n",
    "EPOCHS = 100\n",
    "\n",
    "history_tiny = model_tiny.fit(X_train, y_train, epochs = EPOCHS, validation_data=(X_val, y_val))\n"
   ]
  },
  {
   "cell_type": "code",
   "execution_count": null,
   "id": "59be731e",
   "metadata": {},
   "outputs": [],
   "source": [
    "hist_tiny = pd.DataFrame(history_tiny.history)\n",
    "\n",
    "plt.figure(figsize=(10,6))\n",
    "plt.subplot(1,2,1)\n",
    "plt.plot(hist_tiny.loss, label = \"loss\")\n",
    "plt.plot(hist_tiny.val_loss, label = \"val_loss\")\n",
    "plt.xlabel(\"epoch\")\n",
    "plt.ylabel(\"loss\")\n",
    "plt.legend()\n",
    "\n",
    "plt.subplot(1,2,2)\n",
    "plt.plot(hist_tiny.accuracy, label = \"accuracy\")\n",
    "plt.plot(hist_tiny.val_accuracy, label = \"val_accuracy\")\n",
    "plt.xlabel(\"epoch\")\n",
    "plt.ylabel(\"accuracy\")\n",
    "plt.legend()"
   ]
  },
  {
   "cell_type": "code",
   "execution_count": null,
   "id": "4c39999f",
   "metadata": {},
   "outputs": [],
   "source": [
    "plt.plot(hist_small.val_loss, label = \"small\")\n",
    "plt.plot(hist.val_loss, label = \"base\")\n",
    "plt.plot(hist_big.val_loss, label = \"big\")\n",
    "plt.plot(hist_tiny.val_loss, label = \"tiny\")\n",
    "plt.xlabel(\"epoch\")\n",
    "plt.ylabel(\"loss\")\n",
    "plt.legend()"
   ]
  },
  {
   "cell_type": "code",
   "execution_count": null,
   "id": "3d11f668",
   "metadata": {},
   "outputs": [],
   "source": [
    "plt.plot(hist_small.val_accuracy, label = \"small\")\n",
    "plt.plot(hist.val_accuracy, label = \"base\")\n",
    "plt.plot(hist_big.val_accuracy, label = \"big\")\n",
    "plt.plot(hist_tiny.val_accuracy, label = \"tiny\")\n",
    "plt.xlabel(\"epoch\")\n",
    "plt.ylabel(\"accuracy\")\n",
    "plt.legend()"
   ]
  },
  {
   "cell_type": "code",
   "execution_count": null,
   "id": "73d0c406",
   "metadata": {},
   "outputs": [],
   "source": []
  }
 ],
 "metadata": {
  "kernelspec": {
   "display_name": "Python 3 (ipykernel)",
   "language": "python",
   "name": "python3"
  },
  "language_info": {
   "codemirror_mode": {
    "name": "ipython",
    "version": 3
   },
   "file_extension": ".py",
   "mimetype": "text/x-python",
   "name": "python",
   "nbconvert_exporter": "python",
   "pygments_lexer": "ipython3",
   "version": "3.9.7"
  }
 },
 "nbformat": 4,
 "nbformat_minor": 5
}
