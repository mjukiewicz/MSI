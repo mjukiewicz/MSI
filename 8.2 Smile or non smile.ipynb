{
 "cells": [
  {
   "cell_type": "code",
   "execution_count": 26,
   "id": "7d91c8f8",
   "metadata": {},
   "outputs": [],
   "source": [
    "import numpy as np\n",
    "import matplotlib.pyplot as plt\n",
    "import tensorflow as tf\n",
    "import pandas as pd\n",
    "import os\n",
    "os.environ[\"KMP_DUPLICATE_LIB_OK\"]=\"TRUE\"\n",
    "os.environ['CUDA_VISIBLE_DEVICES'] = '-1'\n",
    "from tensorflow.keras.callbacks import EarlyStopping\n",
    "from tensorflow.keras.models import Sequential\n",
    "from tensorflow.keras.layers import Dense, Dropout, Conv2D, MaxPooling2D, Flatten\n",
    "from tensorflow.keras.layers import BatchNormalization\n",
    "from sklearn.model_selection import train_test_split\n",
    "from sklearn import preprocessing as p\n",
    "\n",
    "es = EarlyStopping(monitor = \"val_loss\", mode = \"min\", patience = 3)\n",
    "EPOCHS = 100\n"
   ]
  },
  {
   "cell_type": "code",
   "execution_count": 27,
   "id": "e7cdaf15",
   "metadata": {},
   "outputs": [
    {
     "name": "stdout",
     "output_type": "stream",
     "text": [
      "Found 963 images belonging to 2 classes.\n",
      "Found 240 images belonging to 2 classes.\n"
     ]
    }
   ],
   "source": [
    "from keras.preprocessing.image import ImageDataGenerator\n",
    "\n",
    "root_path = \"data_images/\"\n",
    "\n",
    "gen = ImageDataGenerator(\n",
    "    rescale=1./255,\n",
    "    validation_split=0.2\n",
    ")\n",
    "\n",
    "# Load Data\n",
    "train_dataset = gen.flow_from_directory(\n",
    "    root_path,\n",
    "    class_mode=\"categorical\",\n",
    "    classes=[\"smile\",\"non_smile\"],\n",
    "    shuffle=True,\n",
    "    batch_size=32,\n",
    "    target_size=(64,64),\n",
    "    subset=\"training\"\n",
    ")\n",
    "\n",
    "validation_dataset = gen.flow_from_directory(\n",
    "    root_path,\n",
    "    class_mode=\"categorical\",\n",
    "    classes=[\"smile\",\"non_smile\"],\n",
    "    shuffle=True,\n",
    "    batch_size=32,\n",
    "    target_size=(64,64),\n",
    "    subset=\"validation\"\n",
    ")"
   ]
  },
  {
   "cell_type": "code",
   "execution_count": 28,
   "id": "5051df5b",
   "metadata": {},
   "outputs": [
    {
     "name": "stdout",
     "output_type": "stream",
     "text": [
      "Model: \"sequential_2\"\n",
      "_________________________________________________________________\n",
      " Layer (type)                Output Shape              Param #   \n",
      "=================================================================\n",
      " conv2d_2 (Conv2D)           (None, 62, 62, 16)        448       \n",
      "                                                                 \n",
      " max_pooling2d_2 (MaxPooling  (None, 31, 31, 16)       0         \n",
      " 2D)                                                             \n",
      "                                                                 \n",
      " flatten_2 (Flatten)         (None, 15376)             0         \n",
      "                                                                 \n",
      " dense_4 (Dense)             (None, 512)               7873024   \n",
      "                                                                 \n",
      " dense_5 (Dense)             (None, 2)                 1026      \n",
      "                                                                 \n",
      "=================================================================\n",
      "Total params: 7,874,498\n",
      "Trainable params: 7,874,498\n",
      "Non-trainable params: 0\n",
      "_________________________________________________________________\n",
      "Epoch 1/100\n"
     ]
    },
    {
     "name": "stderr",
     "output_type": "stream",
     "text": [
      "2023-11-28 13:08:11.067392: I tensorflow/core/common_runtime/executor.cc:1197] [/device:CPU:0] (DEBUG INFO) Executor start aborting (this does not indicate an error and you can ignore this message): INVALID_ARGUMENT: You must feed a value for placeholder tensor 'Placeholder/_0' with dtype int32\n",
      "\t [[{{node Placeholder/_0}}]]\n"
     ]
    },
    {
     "name": "stdout",
     "output_type": "stream",
     "text": [
      "31/31 [==============================] - ETA: 0s - loss: 1.2823 - accuracy: 0.4798"
     ]
    },
    {
     "name": "stderr",
     "output_type": "stream",
     "text": [
      "2023-11-28 13:08:12.845139: I tensorflow/core/common_runtime/executor.cc:1197] [/device:CPU:0] (DEBUG INFO) Executor start aborting (this does not indicate an error and you can ignore this message): INVALID_ARGUMENT: You must feed a value for placeholder tensor 'Placeholder/_0' with dtype int32\n",
      "\t [[{{node Placeholder/_0}}]]\n"
     ]
    },
    {
     "name": "stdout",
     "output_type": "stream",
     "text": [
      "31/31 [==============================] - 2s 47ms/step - loss: 1.2823 - accuracy: 0.4798 - val_loss: 0.7078 - val_accuracy: 0.5000\n",
      "Epoch 2/100\n",
      "31/31 [==============================] - 1s 41ms/step - loss: 0.6920 - accuracy: 0.5161 - val_loss: 0.6845 - val_accuracy: 0.5000\n",
      "Epoch 3/100\n",
      "31/31 [==============================] - 1s 40ms/step - loss: 0.6163 - accuracy: 0.7134 - val_loss: 0.6198 - val_accuracy: 0.6000\n",
      "Epoch 4/100\n",
      "31/31 [==============================] - 1s 42ms/step - loss: 0.4794 - accuracy: 0.7902 - val_loss: 0.4318 - val_accuracy: 0.8333\n",
      "Epoch 5/100\n",
      "31/31 [==============================] - 1s 41ms/step - loss: 0.3160 - accuracy: 0.9003 - val_loss: 0.3070 - val_accuracy: 0.9000\n",
      "Epoch 6/100\n",
      "31/31 [==============================] - 1s 41ms/step - loss: 0.2446 - accuracy: 0.9128 - val_loss: 0.2709 - val_accuracy: 0.8708\n",
      "Epoch 7/100\n",
      "31/31 [==============================] - 1s 42ms/step - loss: 0.3113 - accuracy: 0.8764 - val_loss: 0.3825 - val_accuracy: 0.8292\n",
      "Epoch 8/100\n",
      "31/31 [==============================] - 1s 40ms/step - loss: 0.2005 - accuracy: 0.9294 - val_loss: 0.2252 - val_accuracy: 0.9125\n",
      "Epoch 9/100\n",
      "31/31 [==============================] - 1s 41ms/step - loss: 0.1438 - accuracy: 0.9533 - val_loss: 0.2237 - val_accuracy: 0.9292\n",
      "Epoch 10/100\n",
      "31/31 [==============================] - 1s 41ms/step - loss: 0.1232 - accuracy: 0.9626 - val_loss: 0.2009 - val_accuracy: 0.9417\n",
      "Epoch 11/100\n",
      "31/31 [==============================] - 1s 41ms/step - loss: 0.1095 - accuracy: 0.9699 - val_loss: 0.1891 - val_accuracy: 0.9375\n",
      "Epoch 12/100\n",
      "31/31 [==============================] - 1s 40ms/step - loss: 0.0884 - accuracy: 0.9761 - val_loss: 0.2116 - val_accuracy: 0.9333\n",
      "Epoch 13/100\n",
      "31/31 [==============================] - 1s 40ms/step - loss: 0.0800 - accuracy: 0.9792 - val_loss: 0.1931 - val_accuracy: 0.9417\n",
      "Epoch 14/100\n",
      "31/31 [==============================] - 1s 40ms/step - loss: 0.1057 - accuracy: 0.9574 - val_loss: 0.2009 - val_accuracy: 0.9208\n"
     ]
    }
   ],
   "source": [
    "model = Sequential()\n",
    "model.add(Conv2D(filters = 16, kernel_size = (3, 3), activation='relu', input_shape=(64, 64, 3)))\n",
    "model.add(MaxPooling2D())\n",
    "\n",
    "model.add(Flatten())\n",
    "model.add(Dense(512, activation = 'relu'))\n",
    "model.add(Dense(2, activation='softmax'))\n",
    "model.summary()\n",
    "model.compile(optimizer='adam',\n",
    "              loss='categorical_crossentropy',\n",
    "              metrics=['accuracy'])\n",
    "history = model.fit(train_dataset, epochs=EPOCHS, validation_data=(validation_dataset), callbacks=[es])"
   ]
  },
  {
   "cell_type": "code",
   "execution_count": 29,
   "id": "6a9d7b49",
   "metadata": {},
   "outputs": [
    {
     "data": {
      "text/plain": [
       "<matplotlib.legend.Legend at 0x7f50c818d970>"
      ]
     },
     "execution_count": 29,
     "metadata": {},
     "output_type": "execute_result"
    },
    {
     "data": {
      "image/png": "[encoded data removed]",
      "text/plain": [
       "<Figure size 640x480 with 1 Axes>"
      ]
     },
     "metadata": {},
     "output_type": "display_data"
    }
   ],
   "source": [
    "hist = pd.DataFrame(history.history)\n",
    "plt.plot(hist.loss, label = \"loss\")\n",
    "plt.plot(hist.val_loss, label = \"val_loss\")\n",
    "plt.xlabel(\"epoch\")\n",
    "plt.ylabel(\"loss\")\n",
    "plt.legend()"
   ]
  },
  {
   "cell_type": "code",
   "execution_count": null,
   "id": "5dc47845",
   "metadata": {},
   "outputs": [],
   "source": [
    "img, label = validation_dataset.next()\n",
    "y_pred = model.predict(img)"
   ]
  },
  {
   "cell_type": "code",
   "execution_count": null,
   "id": "4236b051",
   "metadata": {},
   "outputs": [],
   "source": [
    "plt.figure(figsize=(10,10))\n",
    "\n",
    "for i in range(25):\n",
    "    plt.subplot(5,5,i+1)\n",
    "    plt.imshow(img[i])\n",
    "    plt.axis('off')\n",
    "    if np.round(y_pred[i])[0] == label[i][0]:\n",
    "        plt.title(\"ok\", color = 'green')\n",
    "    else:\n",
    "        plt.title(\"nie ok\", color = 'red')    "
   ]
  },
  {
   "cell_type": "code",
   "execution_count": null,
   "id": "c072ab6a",
   "metadata": {},
   "outputs": [],
   "source": []
  }
 ],
 "metadata": {
  "kernelspec": {
   "display_name": "Python 3 (ipykernel)",
   "language": "python",
   "name": "python3"
  },
  "language_info": {
   "codemirror_mode": {
    "name": "ipython",
    "version": 3
   },
   "file_extension": ".py",
   "mimetype": "text/x-python",
   "name": "python",
   "nbconvert_exporter": "python",
   "pygments_lexer": "ipython3",
   "version": "3.9.7"
  }
 },
 "nbformat": 4,
 "nbformat_minor": 5
}
