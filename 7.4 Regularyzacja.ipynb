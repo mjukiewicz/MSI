{
 "cells": [
  {
   "cell_type": "code",
   "execution_count": null,
   "id": "d5074bd2",
   "metadata": {},
   "outputs": [],
   "source": [
    "import tensorflow as tf\n",
    "from tensorflow.keras.datasets import mnist\n",
    "from tensorflow.keras.models import Sequential\n",
    "from tensorflow.keras.layers import Dense, Flatten\n",
    "from tensorflow.keras.regularizers import l2\n",
    "import matplotlib.pyplot as plt\n",
    "import os \n",
    "os.environ[\"KMP_DUPLICATE_LIB_OK\"]=\"TRUE\"\n",
    "os.environ['CUDA_VISIBLE_DEVICES'] = '-1'\n",
    "\n",
    "# Załaduj dane MNIST\n",
    "(x_train, y_train), (x_test, y_test) = mnist.load_data()\n",
    "\n",
    "# Normalizacja danych\n",
    "x_train, x_test = x_train / 255.0, x_test / 255.0\n"
   ]
  },
  {
   "cell_type": "code",
   "execution_count": null,
   "id": "9795d137",
   "metadata": {},
   "outputs": [],
   "source": [
    "# Model z regularyzacją L2\n",
    "model_with_regularizer = Sequential([\n",
    "    Flatten(input_shape=(28, 28)),\n",
    "    Dense(64, activation='relu', kernel_regularizer=l2(0.001)),\n",
    "    Dense(64, activation='relu', kernel_regularizer=l2(0.001)),\n",
    "    Dense(10, activation='softmax')\n",
    "])\n",
    "\n",
    "# Model bez regularyzacji\n",
    "model_without_regularizer = Sequential([\n",
    "    Flatten(input_shape=(28, 28)),\n",
    "    Dense(64, activation='relu'),\n",
    "    Dense(64, activation='relu'),\n",
    "    Dense(10, activation='softmax')\n",
    "])\n"
   ]
  },
  {
   "cell_type": "code",
   "execution_count": null,
   "id": "91a8b0b8",
   "metadata": {},
   "outputs": [],
   "source": [
    "# Kompilacja modeli\n",
    "model_with_regularizer.compile(optimizer='adam', loss='sparse_categorical_crossentropy', metrics=['accuracy'])\n",
    "model_without_regularizer.compile(optimizer='adam', loss='sparse_categorical_crossentropy', metrics=['accuracy'])\n",
    "\n",
    "# Trenowanie modeli\n",
    "history_with_regularizer = model_with_regularizer.fit(x_train, y_train, epochs=10, batch_size=32, validation_split=0.2, verbose=0)\n",
    "history_without_regularizer = model_without_regularizer.fit(x_test, y_test, epochs=10, batch_size=32, validation_split=0.2, verbose=0)\n"
   ]
  },
  {
   "cell_type": "code",
   "execution_count": null,
   "id": "88eb916c",
   "metadata": {},
   "outputs": [],
   "source": [
    "# Wykresy porównawcze\n",
    "plt.figure(figsize=(12, 4))\n",
    "\n",
    "plt.subplot(1, 2, 1)\n",
    "plt.plot(history_with_regularizer.history['accuracy'], label='Trening')\n",
    "plt.plot(history_with_regularizer.history['val_accuracy'], label='Test')\n",
    "plt.title('Model z regularyzacją')\n",
    "plt.xlabel('Epochs')\n",
    "plt.ylabel('Accuracy')\n",
    "plt.legend()\n",
    "\n",
    "plt.subplot(1, 2, 2)\n",
    "plt.plot(history_without_regularizer.history['accuracy'], label='Trening')\n",
    "plt.plot(history_without_regularizer.history['val_accuracy'], label='Test')\n",
    "plt.title('Model bez regularyzacji')\n",
    "plt.xlabel('Epochs')\n",
    "plt.ylabel('Accuracy')\n",
    "plt.legend()\n",
    "\n",
    "plt.tight_layout()\n",
    "plt.show()\n"
   ]
  }
 ],
 "metadata": {
  "kernelspec": {
   "display_name": "Python 3 (ipykernel)",
   "language": "python",
   "name": "python3"
  },
  "language_info": {
   "codemirror_mode": {
    "name": "ipython",
    "version": 3
   },
   "file_extension": ".py",
   "mimetype": "text/x-python",
   "name": "python",
   "nbconvert_exporter": "python",
   "pygments_lexer": "ipython3",
   "version": "3.9.7"
  }
 },
 "nbformat": 4,
 "nbformat_minor": 5
}
